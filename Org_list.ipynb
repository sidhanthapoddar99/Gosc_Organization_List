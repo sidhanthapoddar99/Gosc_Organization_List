{
 "metadata": {
  "language_info": {
   "codemirror_mode": {
    "name": "ipython",
    "version": 3
   },
   "file_extension": ".py",
   "mimetype": "text/x-python",
   "name": "python",
   "nbconvert_exporter": "python",
   "pygments_lexer": "ipython3",
   "version": "3.7.10-final"
  },
  "orig_nbformat": 2,
  "kernelspec": {
   "name": "python3",
   "display_name": "Python 3.7.10 64-bit ('scraping': conda)",
   "metadata": {
    "interpreter": {
     "hash": "d9df60963105beeaa7cebefb4accce3edaf009cf0ed2cf3e877ef4d0d984956c"
    }
   }
  }
 },
 "nbformat": 4,
 "nbformat_minor": 2,
 "cells": [
  {
   "cell_type": "code",
   "execution_count": 1,
   "metadata": {},
   "outputs": [],
   "source": [
    "from requests import get\n",
    "import json\n",
    "from bs4 import BeautifulSoup\n",
    "import pandas as pd"
   ]
  },
  {
   "cell_type": "code",
   "execution_count": 3,
   "metadata": {},
   "outputs": [
    {
     "output_type": "execute_result",
     "data": {
      "text/plain": [
       "bs4.BeautifulSoup"
      ]
     },
     "metadata": {},
     "execution_count": 3
    }
   ],
   "source": [
    "urlx=\"https://thealphadollar.me/GSoCOrgFrequency/\"\n",
    "response = get(urlx)\n",
    "html_soup = BeautifulSoup(response.text, 'html.parser')\n",
    "type(html_soup)"
   ]
  },
  {
   "cell_type": "code",
   "execution_count": 4,
   "metadata": {},
   "outputs": [],
   "source": [
    "table = html_soup.find('tbody')"
   ]
  },
  {
   "cell_type": "code",
   "execution_count": 10,
   "metadata": {},
   "outputs": [],
   "source": [
    "table = table.find_all('tr')"
   ]
  },
  {
   "cell_type": "code",
   "execution_count": 12,
   "metadata": {
    "tags": []
   },
   "outputs": [],
   "source": [
    "org={'Name':{'count':1,'tech':[],'topics':[],'cat':'','Ly':''}}"
   ]
  },
  {
   "cell_type": "code",
   "execution_count": 30,
   "metadata": {},
   "outputs": [],
   "source": [
    "org=dict()"
   ]
  },
  {
   "cell_type": "code",
   "execution_count": 51,
   "metadata": {},
   "outputs": [],
   "source": [
    "for i in table:\n",
    "    name  =i.find_all('td')[0].text\n",
    "    count =int(i.find_all('td')[1].text)\n",
    "    tech  =list(map(str.strip,(map(str.lower,i.find_all('td')[2].text.split(',')))))\n",
    "    topics=list(map(str.strip,(map(str.lower,i.find_all('td')[3].text.split(',')))))\n",
    "    cat   =i.find_all('td')[4].text\n",
    "    Ly    =int(i.find_all('td')[5].text)\n",
    "    org[name]={'count':count,'tech':tech,'topics':topics,'cat':cat,'Ly':Ly}\n"
   ]
  },
  {
   "cell_type": "code",
   "execution_count": 52,
   "metadata": {},
   "outputs": [],
   "source": [
    "#table[0].find_all('td')[0].text"
   ]
  },
  {
   "cell_type": "code",
   "execution_count": 76,
   "metadata": {},
   "outputs": [
    {
     "output_type": "stream",
     "name": "stdout",
     "text": [
      "CloudCV -- 2020 -- 6\ncoala -- 2019 -- 3\nHydra Ecosystem -- 2020 -- 2\nOpenStreetMap -- 2020 -- 10\nPEcAn Project -- 2020 -- 4\n"
     ]
    }
   ],
   "source": [
    "tech_stack=['python','docker']\n",
    "min_times= 1\n",
    "min_year=2019\n",
    "count = 0 \n",
    "for i in org:\n",
    "    match=True\n",
    "    for j in tech_stack:\n",
    "        if (j not in org[i]['tech']) and (j not in org[i]['topics']):\n",
    "            match=False\n",
    "            break\n",
    "    if match and org[i]['Ly']>=min_year and org[i]['count']>= min_times:   \n",
    "        count+=1\n",
    "        print(i,\"--\",org[i]['Ly'],\"--\",org[i]['count'])  "
   ]
  },
  {
   "cell_type": "code",
   "execution_count": 56,
   "metadata": {},
   "outputs": [],
   "source": [
    "#org['CloudCV']"
   ]
  },
  {
   "cell_type": "code",
   "execution_count": 48,
   "metadata": {},
   "outputs": [
    {
     "output_type": "stream",
     "name": "stdout",
     "text": [
      "834   4\n"
     ]
    }
   ],
   "source": [
    "print(len(org), \" \", count)"
   ]
  },
  {
   "cell_type": "code",
   "execution_count": 70,
   "metadata": {},
   "outputs": [
    {
     "output_type": "stream",
     "name": "stdout",
     "text": [
      "Kapitan -- 2020 -- 2\nKubeflow -- 2020 -- 1\nPEcAn Project -- 2020 -- 4\n"
     ]
    }
   ],
   "source": [
    "tech_stack=['python','kubernetes']\n",
    "min_times= 1\n",
    "min_year=2020\n",
    "count = 0 \n",
    "for i in org:\n",
    "    match=True\n",
    "    for j in tech_stack:\n",
    "        if (j not in org[i]['tech']) and (j not in org[i]['topics']):\n",
    "            match=False\n",
    "            break\n",
    "    if match and org[i]['Ly']>=min_year and org[i]['count']>= min_times:   \n",
    "        count+=1\n",
    "        print(i,\"--\",org[i]['Ly'],\"--\",org[i]['count'])  "
   ]
  },
  {
   "cell_type": "code",
   "execution_count": 71,
   "metadata": {},
   "outputs": [
    {
     "output_type": "stream",
     "name": "stdout",
     "text": [
      "AboutCode.org -- 2020 -- 2\nAOSSIE -- 2020 -- 1\nBeagleBoard.org -- 2020 -- 7\nCERN-HSF -- 2020 -- 4\nCloudCV -- 2020 -- 6\nKubeflow -- 2020 -- 1\nLiquid Galaxy Project -- 2020 -- 9\nmlpack -- 2020 -- 4\nNumFOCUS -- 2020 -- 6\nOpenCV -- 2020 -- 4\nOrcasound -- 2020 -- 1\nPython Software Foundation -- 2020 -- 12\nRed Hen Lab -- 2020 -- 6\nSCoRe Lab -- 2020 -- 1\nShogun -- 2020 -- 1\nSTE AR Group -- 2020 -- 3\nTensorFlow -- 2020 -- 2\n"
     ]
    }
   ],
   "source": [
    "tech_stack=['python','machine learning']\n",
    "min_times= 1\n",
    "min_year=2020\n",
    "count = 0 \n",
    "for i in org:\n",
    "    match=True\n",
    "    for j in tech_stack:\n",
    "        if (j not in org[i]['tech']) and (j not in org[i]['topics']):\n",
    "            match=False\n",
    "            break\n",
    "    if match and org[i]['Ly']>=min_year and org[i]['count']>= min_times:        \n",
    "        count+=1\n",
    "        print(i,\"--\",org[i]['Ly'],\"--\",org[i]['count'])  "
   ]
  },
  {
   "cell_type": "code",
   "execution_count": null,
   "metadata": {},
   "outputs": [],
   "source": []
  }
 ]
}